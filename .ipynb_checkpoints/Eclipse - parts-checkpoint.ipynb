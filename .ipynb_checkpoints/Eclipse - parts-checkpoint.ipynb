{
 "cells": [
  {
   "cell_type": "code",
   "execution_count": 1,
   "metadata": {
    "collapsed": true
   },
   "outputs": [],
   "source": [
    "# -*- coding: utf-8 -*-\n",
    "\"\"\"\n",
    "Created on Mon Jun 01 09:53:19 2015\n",
    "\n",
    "@author: ElianeAparecidaCorre\n",
    "\"\"\"\n",
    "\n",
    "import scipy\n",
    "from scipy.io.idl import readsav\n",
    "from scipy import interpolate\n",
    "from scipy import ndimage\n",
    "\n",
    "#from scipy.stats import mean\n",
    "\n",
    "from matplotlib.pyplot import *\n",
    "from matplotlib import pyplot\n",
    "\n",
    "import numpy as np\n",
    "\n",
    "import math\n",
    "import keyword\n",
    "import pandas as pd\n",
    "import collections\n"
   ]
  },
  {
   "cell_type": "code",
   "execution_count": 2,
   "metadata": {
    "collapsed": true
   },
   "outputs": [],
   "source": [
    "#dt definido como 20 como default\n",
    "dt = 20\n",
    "\n",
    "longs = np.zeros(1,float)\n",
    "ffi = np.zeros(1,float)\n",
    "fa = np.zeros(1,float)"
   ]
  },
  {
   "cell_type": "code",
   "execution_count": 3,
   "metadata": {
    "collapsed": false
   },
   "outputs": [
    {
     "name": "stdout",
     "output_type": "stream",
     "text": [
      "{'wl': array([[ 0.,  0.,  0., ...,  0.,  0.,  0.],\n",
      "       [ 0.,  0.,  0., ...,  0.,  0.,  0.],\n",
      "       [ 0.,  0.,  0., ...,  0.,  0.,  0.],\n",
      "       ..., \n",
      "       [ 0.,  0.,  0., ...,  0.,  0.,  0.],\n",
      "       [ 0.,  0.,  0., ...,  0.,  0.,  0.],\n",
      "       [ 0.,  0.,  0., ...,  0.,  0.,  0.]], dtype=float32), 'rp': 0.066200003, 'u1': 0.58999997, 'a': 19.549999, 'x0': 177.843, 'tef': 5576.0, 'r': 368.65082, 'u2': 0.0, 'per': 9.4341497, 'inc': 87.806}\n"
     ]
    }
   ],
   "source": [
    "##caminho =  'Dropbox/projeto_programacao'\n",
    "# Leitura do arquivo de dados do kepler\n",
    "# s  =  Star, dados da estrela\n",
    "s  =  readsav('paramk63.save')\n",
    "print(s)"
   ]
  },
  {
   "cell_type": "code",
   "execution_count": 4,
   "metadata": {
    "collapsed": false
   },
   "outputs": [
    {
     "name": "stdout",
     "output_type": "stream",
     "text": [
      "856\n"
     ]
    }
   ],
   "source": [
    "#capturando o tamanho do array de curva de luz(wl  =  wave light)\n",
    "n = len(s.wl[:,0]) \n",
    "print(n)"
   ]
  },
  {
   "cell_type": "code",
   "execution_count": null,
   "metadata": {
    "collapsed": false
   },
   "outputs": [],
   "source": [
    "print(s.wl)"
   ]
  },
  {
   "cell_type": "code",
   "execution_count": null,
   "metadata": {
    "collapsed": false,
    "scrolled": true
   },
   "outputs": [],
   "source": [
    "# mx=mean(wl[n/2-20:n/2+20,n/2-20:n/2+20])\n",
    "\n",
    "mx = np.mean( s.wl[n/2-20:n/2+20,n/2-20:n/2+20] )\n",
    "\n",
    "#mx = mean(s.wl[n/2-20:n/2+20,n/2-20:n/2+20])\n",
    "print(mx)"
   ]
  },
  {
   "cell_type": "code",
   "execution_count": null,
   "metadata": {
    "collapsed": false
   },
   "outputs": [],
   "source": [
    "# half,findgen(n),wl[*,n/2],x1,x2,yval=mx/2.\n",
    "x1 = mx/2\n",
    "x2 = mx/2\n",
    "\n",
    "print(x1 + \"|\"+ x2)"
   ]
  },
  {
   "cell_type": "code",
   "execution_count": null,
   "metadata": {
    "collapsed": false
   },
   "outputs": [],
   "source": [
    "r = (x2-x1)/2.        # raio da estrela em pixels\n",
    "print (r)"
   ]
  },
  {
   "cell_type": "code",
   "execution_count": null,
   "metadata": {
    "collapsed": true
   },
   "outputs": [],
   "source": []
  },
  {
   "cell_type": "code",
   "execution_count": 5,
   "metadata": {
    "collapsed": false
   },
   "outputs": [
    {
     "name": "stdout",
     "output_type": "stream",
     "text": [
      "24.4047\n"
     ]
    }
   ],
   "source": [
    "#RS  =  raio da estrela\n",
    "#Rs = s.rp*s.r\n",
    "Rs = s.rp*s.r\n",
    "print(Rs)"
   ]
  },
  {
   "cell_type": "code",
   "execution_count": 6,
   "metadata": {
    "collapsed": true
   },
   "outputs": [],
   "source": [
    "ar = s.a*s.r\n",
    "alfa = math.radians(s.inc)"
   ]
  },
  {
   "cell_type": "code",
   "execution_count": 7,
   "metadata": {
    "collapsed": true
   },
   "outputs": [],
   "source": [
    "#calculado o X e o Y por coordenadas esféricas\n",
    "teta = np.arange((s.per*24.*float(dt)+0.5)-1)*360./(s.per*24*float(dt))\n",
    "ii = np.where((teta >= 180) & (teta <= 360))\n",
    "teta = np.radians(teta[ii]) \n",
    "xx = ar*np.cos(teta)\n",
    "yy = ar*np.sin(teta)*math.cos(alfa)\n",
    "\n",
    "xxp = xx\n",
    "yyp = yy\n",
    "\n",
    "pp = np.where((abs(xxp) < n/2*1.2) & (abs(yyp) < n/2))\n",
    "\n",
    "xp = xxp[pp]\n",
    "yp = yyp[pp]\n",
    "\n",
    "jj = np.argsort(xp) \n",
    "xp = xp[jj]\n",
    "yp = yp[jj]\n",
    "\n",
    "wp = np.zeros(len(pp[0]))+np.sum(s.wl)\n",
    "\n",
    "lat=(-math.asin((s.a)*math.cos(math.radians(s.inc))))/0.0174533\n",
    "   ##print (lat)\n",
    "x1 = np.arange(0,n,dtype = float)-n/2\n",
    "y1 = np.arange(0,n,dtype = float)-n/2\n"
   ]
  },
  {
   "cell_type": "code",
   "execution_count": 8,
   "metadata": {
    "collapsed": false
   },
   "outputs": [
    {
     "name": "stdout",
     "output_type": "stream",
     "text": [
      "[ 0.]\n"
     ]
    }
   ],
   "source": [
    "##starspots\n",
    "j = np.where((abs(longs) < 90.) | (longs > 270.) & (longs < 360.))\n",
    "nspot = len(j[0])\n",
    "\n",
    "#def src(slat):\n",
    "#        if(slat==0):\n",
    "#            slat = np.array((-math.asin((s.a)*math.cos(math.radians(s.inc))))/0.0174533)\n",
    "#            print(slat)\n",
    "#        else:\n",
    "#            slat = slat[jj]\n",
    " #           print(slat)\n",
    "\n",
    "slat = np.array(-math.asin((s.a)*math.cos(math.radians(s.inc))))/0.0174533\n",
    "lgs = longs[j]\n",
    "fi = ffi[j]\n",
    "\n",
    "Ra = Rs*fa[j]\n",
    "ys=(s.r)*(math.sin(math.radians(slat)))\n",
    "\n",
    "#longitude of spots:\n",
    "xs=(s.r)*math.cos(math.radians(slat))*np.sin(np.radians(lgs))   \n",
    "slg=(np.arcsin(xs/s.r))  #\n",
    "helio = math.acos(math.cos(math.radians(slat)))*np.cos(slg)/0.0174533\n",
    "print(xs)\n",
    "\n",
    "spot = np.zeros((n,n))+1\n"
   ]
  },
  {
   "cell_type": "code",
   "execution_count": 9,
   "metadata": {
    "collapsed": true
   },
   "outputs": [],
   "source": [
    "#efeito de foreshortenning\n",
    "for i in range(0,nspot-1):  ##npspot-1/nspot = 1\n",
    "    if ( (xs[i] < s.r) and (ys[i] < s.r) and (Ra[i]*np.cos(helio[i]*dtor) >= 1) ) :\n",
    "        tmp  =  np.ones((n,n))\n",
    "        yy = ys[i]+n/2\n",
    "        xx = xs[i]+n/2\n",
    "        ii = np.where((kk/n-yy)**2+(kk-n*np.floor(kk/n)-xx)**2 < Rs**2)\n",
    "        if len(ii[0]) != 1:\n",
    "                tmp[ii]  =  -10\n",
    "                angle  =  np.copysign(lat,-lat*lli[i])\n",
    "                pivot  =  np.array([xs[i]+n/2,ys[i]+n/2])\n",
    "                padX  =  [tmp.shape[1] - pivot[0], pivot[0]]\n",
    "                padY  =  [tmp.shape[0] - pivot[1], pivot[1]]\n",
    "                imgP  =  np.pad(tmp, [padY, padX], 'maximum')\n",
    "                imgR  =  scipy.ndimage.rotate(imgP, angle, reshape = False, cval = 1.0)\n",
    "                tmp2  =  imgR[padY[0] : -padY[1], padX[0] : -padX[1]]\n",
    "                ii  =  np.where(tmp2 < 0.)                                \n",
    "                if len(ii[0]) != 1:\n",
    "                    spot[ii]=fi[i]\n",
    "\n"
   ]
  },
  {
   "cell_type": "code",
   "execution_count": 10,
   "metadata": {
    "collapsed": true
   },
   "outputs": [],
   "source": [
    "star  =  np.multiply(s.wl,spot)\n",
    "            \n",
    "\n",
    "kk = np.arange(n*n)\n",
    "jj = np.where((xp+(n/2) > 0) & (xp+(n/2) < n) & (yp+n/2 > 0) & (yp+(n/2) < n))\n",
    "i0 = jj[0][0]\n",
    "i1 = jj[0][len(jj[0])-1]\n",
    "\n"
   ]
  },
  {
   "cell_type": "code",
   "execution_count": 11,
   "metadata": {
    "collapsed": false
   },
   "outputs": [
    {
     "name": "stderr",
     "output_type": "stream",
     "text": [
      "C:\\anaconda\\lib\\site-packages\\ipykernel\\__main__.py:15: DeprecationWarning: using a non-integer number instead of an integer will result in an error in the future\n",
      "C:\\anaconda\\lib\\site-packages\\matplotlib\\backend_bases.py:2435: MatplotlibDeprecationWarning: Using default event loop until function specific to this GUI is implemented\n",
      "  warnings.warn(str, mplDeprecation)\n"
     ]
    }
   ],
   "source": [
    "#iterando  i0 e i1 montando os dados do grafico\n",
    "for i in range(i0,i1):\n",
    "    plan = np.zeros((n,n),dtype = float)+1 ##matriz de n por n\n",
    "    x0 = xp[i]+n/2\n",
    "    y0 = yp[i]+n/2\n",
    "    ii = np.where((kk/n-y0)**2+(kk-n*np.floor(kk/n)-x0)**2 < Rs**2)\n",
    "    #plan = np.reshape(plan,(1,np.product(plan.shape)))\n",
    "    #plan[0][ii[0]]=0\n",
    "    ##np.shape(plan)    \n",
    "    #plan = np.reshape(plan,(-1,n))\n",
    "    ##plan = pd.rolling_mean(plan,3,center = True)\n",
    "    x=(1+np.floor(ii[0]/n))\n",
    "    y=(ii[0]-n*(np.floor(ii[0]/n)))\n",
    "    for m in range(len(ii[0])):\n",
    "       plan[x[m],y[m]]=0  \n",
    "    wp[i]=np.sum(s.wl*plan,dtype = float)\n",
    "    pyplot.subplot(211) \n",
    "    imshow(np.copy(s.wl*plan),cmap=\"gray\",origin='lower',extent=[x1[0],x1[len(x1)-1],y1[0],y1[len(y1)-1]])\n",
    "    pyplot.plot(xp,yp,'-' )\n",
    "    pyplot.axis([x1[0],x1[len(x1)-1],y1[0],y1[len(y1)-1]])\n",
    "    ang = np.arange((np.radians(181)*2))\n",
    "    lc = wp/wp[0]\n",
    "    ##print(lc)\n",
    "    d = np.sqrt(xp**2+yp**2)\n",
    "    ii = np.where(d==min(d))\n",
    "    ts = np.arange(len(pp[0]))-ii[0]/dt\n",
    "    pyplot.subplot(212)\n",
    "    pyplot.plot(ts[i0:i],lc[i0:i])\n",
    "    pyplot.axis([ts[0],ts[len(ts)-1],min(lc),lc[0]+0.001])\n",
    "    pyplot.waitforbuttonpress(.1)                       \n",
    "    #pyplot.close()\n",
    "    \n",
    "pyplot.show()\n",
    "\n"
   ]
  }
 ],
 "metadata": {
  "kernelspec": {
   "display_name": "Python 3",
   "language": "python",
   "name": "python3"
  },
  "language_info": {
   "codemirror_mode": {
    "name": "ipython",
    "version": 3
   },
   "file_extension": ".py",
   "mimetype": "text/x-python",
   "name": "python",
   "nbconvert_exporter": "python",
   "pygments_lexer": "ipython3",
   "version": "3.6.0"
  }
 },
 "nbformat": 4,
 "nbformat_minor": 0
}
