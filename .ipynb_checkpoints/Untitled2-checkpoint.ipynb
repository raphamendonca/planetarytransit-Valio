{
 "cells": [
  {
   "cell_type": "code",
   "execution_count": 2,
   "metadata": {
    "collapsed": false
   },
   "outputs": [],
   "source": [
    "from scipy.io.idl import readsav\n",
    "import math\n",
    "import numpy as np\n",
    "import matplotlib.pyplot as plt\n",
    "\n",
    "# Leitura do arquivo de dados do kepler\n",
    "s  =  readsav('paramk63.save') #Star, dados da estrela\n",
    "\n",
    "r = s.r #solar radius in pixels\n",
    "rp = s.rp #planetary radius in Rstar\n",
    "a = s.a\n",
    "inc = s.inc #inclination angle of orbital plane\n",
    "per = s.per\n",
    "wl = s.wl #Wave light\n",
    "    \n",
    "n = len(wl[:,0]) \n",
    "ar = a * r\n",
    "Rs = rp * r #raio do planeta\n",
    "\n",
    "alfa = math.radians(inc)\n",
    "dt = 20 #dt definido como 20 como default"
   ]
  },
  {
   "cell_type": "code",
   "execution_count": 3,
   "metadata": {
    "collapsed": false,
    "scrolled": true
   },
   "outputs": [
    {
     "name": "stdout",
     "output_type": "stream",
     "text": [
      "[ 0.4  0.7  0.9]\n",
      "[ 0.5  0.8  0.2]\n",
      "[ 10.  25.  42.]\n"
     ]
    }
   ],
   "source": [
    "#longs = np.zeros(1,float)\n",
    "#ffi = np.zeros(1,float)\n",
    "#fa = np.zeros(1,float)\n",
    "\n",
    "### Star Sport size\n",
    "fa = np.array([0.4, 0.7, 0.9],float)\n",
    "#fa =  np.zeros([0.4,0.7,0.9],float)\n",
    "#fa =  0.4\n",
    "\n",
    "### Intensity of Star Spot\n",
    "ffi = np.array([0.5, 0.8, 0.2],float)\n",
    "#ffi = np.zeros([0.5,0.8,0.2],float)\n",
    "#ffi = 0.5\n",
    "\n",
    "### Star Spot Position \n",
    "longs = np.array([10, 25, 42],float)\n",
    "#longs = np.zeros([10,25,42],float)\n",
    "#longs = -25\n",
    "\n",
    "\n",
    "print(fa)\n",
    "#print (len(fa))\n",
    "print (ffi)\n",
    "#print (len(ffi))\n",
    "print(longs)\n",
    "#print (len(longs))\n"
   ]
  },
  {
   "cell_type": "code",
   "execution_count": 4,
   "metadata": {
    "collapsed": false
   },
   "outputs": [],
   "source": [
    "#calculado o X e o Y por coordenadas esféricas\n",
    "teta = np.arange((per*24.*float(dt) + 0.5) - 1)*360./(per*24*float(dt))\n",
    "ii = np.where((teta >= 180) & (teta <= 360))\n",
    "teta = np.radians(teta[ii]) \n",
    "xx = ar*np.cos(teta)\n",
    "yy = ar*np.sin(teta)*math.cos(alfa)\n",
    "\n",
    "xxp = xx\n",
    "yyp = yy\n",
    "\n",
    "pp = np.where((abs(xxp) < n/2*1.2) & (abs(yyp) < n/2))\n",
    "\n",
    "xp = xxp[pp]\n",
    "yp = yyp[pp]\n",
    "\n",
    "jj = np.argsort(xp) \n",
    "xp = xp[jj]\n",
    "yp = yp[jj]\n",
    "\n",
    "wp = np.zeros(len(pp[0])) + np.sum(wl)\n",
    "\n",
    "lat = (-math.asin((a) * math.cos(math.radians(inc))))/0.0174533\n",
    "   ##print (lat)\n",
    "x1 = np.arange(0, n, dtype = float) - n/2\n",
    "y1 = np.arange(0, n, dtype = float) - n/2"
   ]
  },
  {
   "cell_type": "markdown",
   "metadata": {},
   "source": [
    "# Star Spots"
   ]
  },
  {
   "cell_type": "code",
   "execution_count": 5,
   "metadata": {
    "collapsed": true
   },
   "outputs": [],
   "source": [
    "##starspots\n",
    "j = np.where((abs(longs) < 90.) | (longs > 270.) & (longs < 360.))\n",
    "nspot = len(j[0])\n",
    "\n",
    "slat = np.array(-math.asin((a) * math.cos(math.radians(inc))))/0.0174533\n",
    "lgs = longs[j]\n",
    "fi = ffi[j]\n",
    "Ra = Rs * fa[j]\n",
    "ys = (r) * (math.sin(math.radians(slat)))\n",
    "\n",
    "#longitude of spots:\n",
    "xs = (r)*math.cos(math.radians(slat))*np.sin(np.radians(lgs))   \n",
    "slg = (np.arcsin(xs/r))  #\n",
    "helio = math.acos(math.cos(math.radians(slat)))*np.cos(slg)/0.0174533\n",
    "spot = np.zeros((n,n)) + 1\n",
    "ys = (r)*(math.sin(math.radians(slat)))"
   ]
  },
  {
   "cell_type": "code",
   "execution_count": 6,
   "metadata": {
    "collapsed": false,
    "scrolled": true
   },
   "outputs": [
    {
     "ename": "NameError",
     "evalue": "name 'kk' is not defined",
     "output_type": "error",
     "traceback": [
      "\u001b[0;31m---------------------------------------------------------------------------\u001b[0m",
      "\u001b[0;31mNameError\u001b[0m                                 Traceback (most recent call last)",
      "\u001b[0;32m<ipython-input-6-410978edefb1>\u001b[0m in \u001b[0;36m<module>\u001b[0;34m()\u001b[0m\n\u001b[1;32m      7\u001b[0m         \u001b[0mxx\u001b[0m \u001b[0;34m=\u001b[0m \u001b[0mxs\u001b[0m\u001b[0;34m[\u001b[0m\u001b[0mi\u001b[0m\u001b[0;34m]\u001b[0m \u001b[0;34m+\u001b[0m \u001b[0mn\u001b[0m \u001b[0;34m/\u001b[0m \u001b[0;36m2\u001b[0m\u001b[0;34m\u001b[0m\u001b[0m\n\u001b[1;32m      8\u001b[0m \u001b[0;34m\u001b[0m\u001b[0m\n\u001b[0;32m----> 9\u001b[0;31m         \u001b[0mii\u001b[0m \u001b[0;34m=\u001b[0m \u001b[0mnp\u001b[0m\u001b[0;34m.\u001b[0m\u001b[0mwhere\u001b[0m\u001b[0;34m(\u001b[0m\u001b[0;34m(\u001b[0m \u001b[0mkk\u001b[0m\u001b[0;34m/\u001b[0m\u001b[0mn\u001b[0m\u001b[0;34m-\u001b[0m\u001b[0myy\u001b[0m\u001b[0;34m)\u001b[0m\u001b[0;34m**\u001b[0m\u001b[0;36m2\u001b[0m \u001b[0;34m+\u001b[0m \u001b[0;34m(\u001b[0m\u001b[0mkk\u001b[0m \u001b[0;34m-\u001b[0m \u001b[0mn\u001b[0m \u001b[0;34m*\u001b[0m \u001b[0mnp\u001b[0m\u001b[0;34m.\u001b[0m\u001b[0mfloor\u001b[0m\u001b[0;34m(\u001b[0m\u001b[0mkk\u001b[0m\u001b[0;34m/\u001b[0m\u001b[0mn\u001b[0m\u001b[0;34m)\u001b[0m\u001b[0;34m-\u001b[0m\u001b[0mxx\u001b[0m\u001b[0;34m)\u001b[0m\u001b[0;34m**\u001b[0m\u001b[0;36m2\u001b[0m \u001b[0;34m<\u001b[0m \u001b[0mRs\u001b[0m\u001b[0;34m**\u001b[0m\u001b[0;36m2\u001b[0m\u001b[0;34m)\u001b[0m\u001b[0;34m\u001b[0m\u001b[0m\n\u001b[0m\u001b[1;32m     10\u001b[0m \u001b[0;34m\u001b[0m\u001b[0m\n\u001b[1;32m     11\u001b[0m         \u001b[0mprint\u001b[0m\u001b[0;34m(\u001b[0m\u001b[0;34m\"tmp: \"\u001b[0m\u001b[0;34m,\u001b[0m\u001b[0mlen\u001b[0m\u001b[0;34m(\u001b[0m\u001b[0mtmp\u001b[0m\u001b[0;34m)\u001b[0m\u001b[0;34m,\u001b[0m\u001b[0;34m\" - \"\u001b[0m\u001b[0;34m,\u001b[0m\u001b[0;34m\"ii[0]\"\u001b[0m\u001b[0;34m,\u001b[0m  \u001b[0mlen\u001b[0m\u001b[0;34m(\u001b[0m\u001b[0mii\u001b[0m\u001b[0;34m[\u001b[0m\u001b[0;36m0\u001b[0m\u001b[0;34m]\u001b[0m\u001b[0;34m)\u001b[0m\u001b[0;34m)\u001b[0m\u001b[0;34m\u001b[0m\u001b[0m\n",
      "\u001b[0;31mNameError\u001b[0m: name 'kk' is not defined"
     ]
    }
   ],
   "source": [
    "#efeito de foreshortenning\n",
    "for i in range(0, nspot - 1):  ##npspot-1/nspot = 1\n",
    "    if ( (xs[i] < r) and (ys < r) and (Ra[i]*np.cos( math.radians(helio[i])) >= 1) ) :\n",
    "        tmp  =  np.ones((n,n))\n",
    "        #yy = ys[i] + n / 2\n",
    "        yy = ys + n/2\n",
    "        xx = xs[i] + n/2\n",
    "        \n",
    "        ii = np.where(( kk/n-yy)**2 + (kk - n*np.floor(kk/n) - xx)**2 < Rs**2)\n",
    "        \n",
    "        print(\"tmp: \", len(tmp), \" - \",\"ii[0]\", len(ii[0]))\n",
    "        print(i)\n",
    "        if len(ii[0]) != 1:\n",
    "            tmp[ii]  =  -10\n",
    "            angle  =  np.copysign(lat, -lat*lli[i] )\n",
    "            pivot  =  np.array([xs[i] + n/2, ys[i] + n/2])\n",
    "            padX  =  [tmp.shape[1] - pivot[0], pivot[0]]\n",
    "            padY  =  [tmp.shape[0] - pivot[1], pivot[1]]\n",
    "            imgP  =  np.pad(tmp, [padY, padX], 'maximum')\n",
    "            imgR  =  scipy.ndimage.rotate(imgP, angle, reshape = False, cval = 1.0)\n",
    "            tmp2  =  imgR[padY[0] : -padY[1], padX[0] : -padX[1]]\n",
    "            ii  =  np.where(tmp2 < 0.)                                \n",
    "            if len(ii[0]) != 1:\n",
    "                spot[ii] = fi[i]\n",
    "\n"
   ]
  },
  {
   "cell_type": "code",
   "execution_count": 7,
   "metadata": {
    "collapsed": true
   },
   "outputs": [],
   "source": [
    "star  =  np.multiply(wl, spot)\n",
    "\n",
    "kk = np.arange(n*n)\n",
    "jj = np.where((xp + (n/2) > 0) & (xp + (n/2) < n) & (yp + n/2 > 0) & (yp + (n/2) < n))\n",
    "i0 = jj[0][0]\n",
    "i1 = jj[0][len(jj[0]) - 1]"
   ]
  },
  {
   "cell_type": "code",
   "execution_count": 21,
   "metadata": {
    "collapsed": false
   },
   "outputs": [
    {
     "name": "stdout",
     "output_type": "stream",
     "text": [
      "[ 130.  130.  130. ...,  177.  177.  177.]\n",
      "[  0.   1.   2. ...,  10.  11.  12.]\n"
     ]
    },
    {
     "data": {
      "image/png": "[encoded data removed]",
      "text/plain": [
       "<matplotlib.figure.Figure at 0x7f88b70d85f8>"
      ]
     },
     "metadata": {},
     "output_type": "display_data"
    }
   ],
   "source": [
    "plan = np.zeros((n, n), dtype = float) + 1 ##matriz de n por n\n",
    "x0 = xp[i] + n/2\n",
    "y0 = yp[i] + n/2\n",
    "ii = np.where((kk/n - y0)**2 + (kk - n*np.floor(kk/n) - x0)**2 < Rs**2)\n",
    "\n",
    "#plan = np.reshape(plan,(1,np.product(plan.shape)))\n",
    "#plan[0][ii[0]]=0\n",
    "##np.shape(plan)    \n",
    "#plan = np.reshape(plan,(-1,n))\n",
    "##plan = pd.rolling_mean(plan,3,center = True)\n",
    "\n",
    "x = (1 + np.floor(ii[0]/n))\n",
    "print(x)\n",
    "y = (ii[0] - n*(np.floor(ii[0]/n)))\n",
    "print(y)\n",
    "#for m in range(len(ii[0])):\n",
    "    #plan[x[m],y[m]] = 0  \n",
    "    \n",
    "wp[i] = np.sum(wl*plan, dtype = float)\n",
    "plt.subplot(211) \n",
    "\n",
    "imshow(np.copy(wl*plan), cmap=\"afmhot\", origin='lower', extent=[x1[0], x1[len(x1)-1], y1[0], y1[len(y1) - 1]])\n",
    "plt.plot(xp,yp, '-' )\n",
    "plt.axis([x1[0], x1[len(x1) - 1], y1[0], y1[len(y1) - 1]])\n",
    "ang = np.arange((np.radians(181)*2))\n",
    "lc = wp/wp[0]\n",
    "\n",
    "##print(lc)\n",
    "d = np.sqrt(xp**2 + yp**2)\n",
    "ii = np.where(d==min(d))\n",
    "ts = np.arange(len(pp[0]))-ii[0]/dt\n",
    "\n",
    "plt.subplot(212)\n",
    "plt.plot(ts[i0:i], lc[i0:i])\n",
    "plt.axis([ts[0], ts[len(ts)-1], min(lc), lc[0]+0.001])\n",
    "\n",
    "#pyplot.waitforbuttonpress(.1)                       \n",
    "#pyplot.close()\n",
    "plt.show()"
   ]
  },
  {
   "cell_type": "code",
   "execution_count": 20,
   "metadata": {
    "collapsed": false
   },
   "outputs": [
    {
     "ename": "IndexError",
     "evalue": "only integers, slices (`:`), ellipsis (`...`), numpy.newaxis (`None`) and integer or boolean arrays are valid indices",
     "output_type": "error",
     "traceback": [
      "\u001b[0;31m---------------------------------------------------------------------------\u001b[0m",
      "\u001b[0;31mIndexError\u001b[0m                                Traceback (most recent call last)",
      "\u001b[0;32m<ipython-input-20-739589788e63>\u001b[0m in \u001b[0;36m<module>\u001b[0;34m()\u001b[0m\n\u001b[1;32m     14\u001b[0m     \u001b[0my\u001b[0m \u001b[0;34m=\u001b[0m \u001b[0;34m(\u001b[0m\u001b[0mii\u001b[0m\u001b[0;34m[\u001b[0m\u001b[0;36m0\u001b[0m\u001b[0;34m]\u001b[0m \u001b[0;34m-\u001b[0m \u001b[0mn\u001b[0m\u001b[0;34m*\u001b[0m\u001b[0;34m(\u001b[0m\u001b[0mnp\u001b[0m\u001b[0;34m.\u001b[0m\u001b[0mfloor\u001b[0m\u001b[0;34m(\u001b[0m\u001b[0mii\u001b[0m\u001b[0;34m[\u001b[0m\u001b[0;36m0\u001b[0m\u001b[0;34m]\u001b[0m\u001b[0;34m/\u001b[0m\u001b[0mn\u001b[0m\u001b[0;34m)\u001b[0m\u001b[0;34m)\u001b[0m\u001b[0;34m)\u001b[0m\u001b[0;34m\u001b[0m\u001b[0m\n\u001b[1;32m     15\u001b[0m     \u001b[0;32mfor\u001b[0m \u001b[0mm\u001b[0m \u001b[0;32min\u001b[0m \u001b[0mrange\u001b[0m\u001b[0;34m(\u001b[0m\u001b[0mlen\u001b[0m\u001b[0;34m(\u001b[0m\u001b[0mii\u001b[0m\u001b[0;34m[\u001b[0m\u001b[0;36m0\u001b[0m\u001b[0;34m]\u001b[0m\u001b[0;34m)\u001b[0m\u001b[0;34m)\u001b[0m\u001b[0;34m:\u001b[0m\u001b[0;34m\u001b[0m\u001b[0m\n\u001b[0;32m---> 16\u001b[0;31m         \u001b[0mplan\u001b[0m\u001b[0;34m[\u001b[0m\u001b[0mx\u001b[0m\u001b[0;34m[\u001b[0m\u001b[0mm\u001b[0m\u001b[0;34m]\u001b[0m\u001b[0;34m,\u001b[0m\u001b[0my\u001b[0m\u001b[0;34m[\u001b[0m\u001b[0mm\u001b[0m\u001b[0;34m]\u001b[0m\u001b[0;34m]\u001b[0m\u001b[0;34m=\u001b[0m\u001b[0;36m0\u001b[0m\u001b[0;34m\u001b[0m\u001b[0m\n\u001b[0m\u001b[1;32m     17\u001b[0m     \u001b[0mwp\u001b[0m\u001b[0;34m[\u001b[0m\u001b[0mi\u001b[0m\u001b[0;34m]\u001b[0m \u001b[0;34m=\u001b[0m \u001b[0mnp\u001b[0m\u001b[0;34m.\u001b[0m\u001b[0msum\u001b[0m\u001b[0;34m(\u001b[0m\u001b[0mwl\u001b[0m\u001b[0;34m*\u001b[0m\u001b[0mplan\u001b[0m\u001b[0;34m,\u001b[0m \u001b[0mdtype\u001b[0m \u001b[0;34m=\u001b[0m \u001b[0mfloat\u001b[0m\u001b[0;34m)\u001b[0m\u001b[0;34m\u001b[0m\u001b[0m\n\u001b[1;32m     18\u001b[0m     \u001b[0mpyplot\u001b[0m\u001b[0;34m.\u001b[0m\u001b[0msubplot\u001b[0m\u001b[0;34m(\u001b[0m\u001b[0;36m211\u001b[0m\u001b[0;34m)\u001b[0m\u001b[0;34m\u001b[0m\u001b[0m\n",
      "\u001b[0;31mIndexError\u001b[0m: only integers, slices (`:`), ellipsis (`...`), numpy.newaxis (`None`) and integer or boolean arrays are valid indices"
     ]
    }
   ],
   "source": [
    "#iterando  i0 e i1 montando os dados do grafico\n",
    "for i in range(i0, i1):\n",
    "    plan = np.zeros((n, n), dtype = float) + 1 ##matriz de n por n\n",
    "    x0 = xp[i] + n/2\n",
    "    y0 = yp[i] + n/2\n",
    "    ii = np.where((kk/n-y0)**2 + (kk - n*np.floor(kk/n) - x0)**2 < Rs**2)\n",
    "    #plan = np.reshape(plan,(1,np.product(plan.shape)))\n",
    "    #plan[0][ii[0]]=0\n",
    "    ##np.shape(plan)    \n",
    "    #plan = np.reshape(plan,(-1,n))\n",
    "    ##plan = pd.rolling_mean(plan,3,center = True)\n",
    "    \n",
    "    x = (1+np.floor(ii[0]/n))\n",
    "    y = (ii[0] - n*(np.floor(ii[0]/n)))\n",
    "    for m in range(len(ii[0])):\n",
    "        plan[x[m],y[m]]=0  \n",
    "    wp[i] = np.sum(wl*plan, dtype = float)\n",
    "    pyplot.subplot(211) \n",
    "    #imshow(np.copy(wl*plan),cmap=\"gray\",origin='lower',extent=[x1[0],x1[len(x1)-1],y1[0],y1[len(y1)-1]])\n",
    "    imshow(np.copy(wl*plan), cmap=\"afmhot\", origin='lower', extent=[x1[0], x1[len(x1) - 1], y1[0], y1[len(y1) - 1]])\n",
    "    pyplot.plot(xp, yp, '-' )\n",
    "    pyplot.axis([x1[0], x1[len(x1) - 1], y1[0], y1[len(y1) - 1]])\n",
    "    ang = np.arange((np.radians(181)*2))\n",
    "    lc = wp/wp[0]\n",
    "    \n",
    "    ##print(lc)\n",
    "    d = np.sqrt(xp**2+yp**2)\n",
    "    ii = np.where(d==min(d))\n",
    "    ts = np.arange(len(pp[0]))-ii[0]/dt\n",
    "    pyplot.subplot(212)\n",
    "    pyplot.plot(ts[i0:i], lc[i0:i])\n",
    "    pyplot.axis([ts[0], ts[len(ts) - 1], min(lc), lc[0] + 0.001])\n",
    "    #pyplot.waitforbuttonpress(.1)                       \n",
    "    #pyplot.close()\n",
    "    pyplot.show()"
   ]
  }
 ],
 "metadata": {
  "kernelspec": {
   "display_name": "Python 3",
   "language": "python",
   "name": "python3"
  },
  "language_info": {
   "codemirror_mode": {
    "name": "ipython",
    "version": 3
   },
   "file_extension": ".py",
   "mimetype": "text/x-python",
   "name": "python",
   "nbconvert_exporter": "python",
   "pygments_lexer": "ipython3",
   "version": "3.6.0"
  }
 },
 "nbformat": 4,
 "nbformat_minor": 2
}
